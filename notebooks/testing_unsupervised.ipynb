{
 "cells": [
  {
   "cell_type": "code",
   "execution_count": null,
   "id": "5f854df0",
   "metadata": {},
   "outputs": [],
   "source": [
    "import sys\n",
    "sys.path.append(r\"C:\\Users\\manik\\OneDrive\\Desktop\\College\\2025S\\CMOR 438\\CMOR438-Python-Package\")"
   ]
  },
  {
   "cell_type": "code",
   "execution_count": null,
   "id": "f9f84f9d",
   "metadata": {},
   "outputs": [],
   "source": []
  }
 ],
 "metadata": {
  "language_info": {
   "name": "python"
  }
 },
 "nbformat": 4,
 "nbformat_minor": 5
}
