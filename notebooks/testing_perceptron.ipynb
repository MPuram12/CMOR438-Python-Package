{
 "cells": [
  {
   "cell_type": "code",
   "execution_count": 7,
   "metadata": {},
   "outputs": [
    {
     "name": "stdout",
     "output_type": "stream",
     "text": [
      "Predictions: [1 1 1 0 0 0 0 1 0 0 0 0 1 0 1 0 1 1 0 0]\n",
      "Accuracy: 1.0\n"
     ]
    }
   ],
   "source": [
    "import sys\n",
    "sys.path.append(r\"C:\\Users\\manik\\OneDrive\\Desktop\\College\\2025S\\CMOR 438\\CMOR438-Python-Package\")\n",
    "import numpy as np\n",
    "from my_ml_package.supervised import perceptron  # Import from your package\n",
    "from sklearn.datasets import load_iris\n",
    "from sklearn.model_selection import train_test_split\n",
    "from sklearn.metrics import accuracy_score\n",
    "\n",
    "# Load the Iris dataset\n",
    "iris = load_iris()\n",
    "X = iris.data  # Features\n",
    "y = iris.target  # Target variable (0, 1, 2 for Iris species)\n",
    "\n",
    "# For Perceptron, we need binary classification.  Let's use Iris-setosa (0) vs. the rest (1)\n",
    "X = X[y != 2]  # Remove Iris-virginica (index 2)\n",
    "y = y[y != 2]  # y is now 0 (setosa) and 1 (versicolor)\n",
    "\n",
    "# Split the data into training and testing sets\n",
    "X_train, X_test, y_train, y_test = train_test_split(X, y, test_size=0.2, random_state=42)\n",
    "\n",
    "# Create a Perceptron object\n",
    "perceptron_model = perceptron.Perceptron(learning_rate=0.1, n_iters=100)  # Increased iterations for better learning\n",
    "\n",
    "# Train the Perceptron\n",
    "perceptron_model.fit(X_train, y_train)\n",
    "\n",
    "# Make predictions on the test set\n",
    "predictions = perceptron_model.predict(X_test)\n",
    "print(\"Predictions:\", predictions)\n",
    "\n",
    "# Evaluate the model's accuracy\n",
    "accuracy = accuracy_score(y_test, predictions)\n",
    "print(\"Accuracy:\", accuracy)\n",
    "\n",
    "# You can add more explanations and visualizations here, like:\n",
    "# - Plotting the decision boundary (if your data is 2D) -  Requires a bit more work to visualize with Iris data\n",
    "# - Showing how the weights change during training (can be done, but adds complexity)\n",
    "# - Trying different learning rates\n"
   ]
  }
 ],
 "metadata": {
  "kernelspec": {
   "display_name": "base",
   "language": "python",
   "name": "python3"
  },
  "language_info": {
   "codemirror_mode": {
    "name": "ipython",
    "version": 3
   },
   "file_extension": ".py",
   "mimetype": "text/x-python",
   "name": "python",
   "nbconvert_exporter": "python",
   "pygments_lexer": "ipython3",
   "version": "3.11.5"
  }
 },
 "nbformat": 4,
 "nbformat_minor": 2
}
