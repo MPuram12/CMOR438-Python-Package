{
 "cells": [
  {
   "cell_type": "code",
   "execution_count": 11,
   "metadata": {},
   "outputs": [
    {
     "name": "stdout",
     "output_type": "stream",
     "text": [
      "Predictions: [0.88074769 1.65287274 2.50202574 ... 4.3700995  1.44911235 1.87772436]\n",
      "R^2 Score: 0.57\n"
     ]
    }
   ],
   "source": [
    "import sys\n",
    "sys.path.append(r\"C:\\Users\\manik\\OneDrive\\Desktop\\College\\2025S\\CMOR 438\\CMOR438-Python-Package\")\n",
    "\n",
    "import numpy as np\n",
    "from sklearn.datasets import fetch_california_housing\n",
    "from sklearn.model_selection import train_test_split\n",
    "from sklearn.preprocessing import StandardScaler\n",
    "from my_ml_package.supervised.linear_regression import LinearRegressionNeuron\n",
    "import matplotlib.pyplot as plt\n",
    "\n",
    "# Load the California Housing dataset\n",
    "housing = fetch_california_housing()\n",
    "X = housing.data\n",
    "y = housing.target\n",
    "\n",
    "# Split the data into training and testing sets\n",
    "X_train, X_test, y_train, y_test = train_test_split(X, y, test_size=0.2, random_state=42)\n",
    "\n",
    "# Standardize the features (important for neural networks)\n",
    "scaler = StandardScaler()\n",
    "X_train_scaled = scaler.fit_transform(X_train)\n",
    "X_test_scaled = scaler.transform(X_test)\n",
    "\n",
    "# Create a LinearRegressionNeuron object\n",
    "neuron = LinearRegressionNeuron(learning_rate=0.01, n_iters=1000)\n",
    "\n",
    "# Train the neuron\n",
    "neuron.fit(X_train_scaled, y_train)\n",
    "\n",
    "# Make predictions on the test set\n",
    "predictions = neuron.predict(X_test_scaled)\n",
    "print(\"Predictions:\", predictions)\n",
    "\n",
    "# Evaluate the model\n",
    "r_squared = neuron.score(X_test_scaled, y_test)\n",
    "print(f\"R^2 Score: {r_squared:.2f}\")\n",
    "\n",
    "# Visualize the predictions (if the number of features is small)\n",
    "if X_test_scaled.shape[1] == 1:  # Only if there's one feature, for easy plotting\n",
    "    plt.scatter(X_test_scaled, y_test, label='Actual')\n",
    "    plt.scatter(X_test_scaled, predictions, label='Predicted')\n",
    "    plt.xlabel('Feature')\n",
    "    plt.ylabel('Target Value')\n",
    "    plt.title('Linear Regression Neuron Predictions')\n",
    "    plt.legend()\n",
    "    plt.show()\n"
   ]
  }
 ],
 "metadata": {
  "kernelspec": {
   "display_name": "base",
   "language": "python",
   "name": "python3"
  },
  "language_info": {
   "codemirror_mode": {
    "name": "ipython",
    "version": 3
   },
   "file_extension": ".py",
   "mimetype": "text/x-python",
   "name": "python",
   "nbconvert_exporter": "python",
   "pygments_lexer": "ipython3",
   "version": "3.11.5"
  }
 },
 "nbformat": 4,
 "nbformat_minor": 2
}
