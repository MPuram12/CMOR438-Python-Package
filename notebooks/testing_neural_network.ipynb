{
 "cells": [
  {
   "cell_type": "code",
   "execution_count": 13,
   "metadata": {},
   "outputs": [
    {
     "name": "stdout",
     "output_type": "stream",
     "text": [
      "Accuracy: 0.67\n",
      "              precision    recall  f1-score   support\n",
      "\n",
      "           0       0.59      1.00      0.74        10\n",
      "           1       1.00      0.56      0.71         9\n",
      "           2       0.62      0.45      0.53        11\n",
      "\n",
      "    accuracy                           0.67        30\n",
      "   macro avg       0.74      0.67      0.66        30\n",
      "weighted avg       0.73      0.67      0.65        30\n",
      "\n"
     ]
    }
   ],
   "source": [
    "import sys\n",
    "sys.path.append(r\"C:\\Users\\manik\\OneDrive\\Desktop\\College\\2025S\\CMOR 438\\CMOR438-Python-Package\")\n",
    "\n",
    "import numpy as np\n",
    "from sklearn.datasets import load_iris\n",
    "from sklearn.model_selection import train_test_split\n",
    "from sklearn.preprocessing import StandardScaler\n",
    "from my_ml_package.supervised.neural_network import NeuralNetwork  # Import your NeuralNetwork class\n",
    "from sklearn.metrics import accuracy_score, classification_report\n",
    "import matplotlib.pyplot as plt\n",
    "\n",
    "# Load the Iris dataset\n",
    "iris = load_iris()\n",
    "X = iris.data\n",
    "y = iris.target\n",
    "\n",
    "# Split the data into training and testing sets\n",
    "X_train, X_test, y_train, y_test = train_test_split(X, y, test_size=0.2, random_state=42)\n",
    "\n",
    "# Standardize the features (important for neural networks)\n",
    "scaler = StandardScaler()\n",
    "X_train_scaled = scaler.fit_transform(X_train)\n",
    "X_test_scaled = scaler.transform(X_test)\n",
    "\n",
    "# Create a NeuralNetwork object\n",
    "# Adjust the hidden_dims to experiment with different network architectures\n",
    "nn = NeuralNetwork(n_input=X_train_scaled.shape[1],\n",
    "                   hidden_dims=[100, 100],  # Example: Two hidden layers with 10 and 5 neurons respectively\n",
    "                   n_output=len(np.unique(y)),  # Number of classes (3 for Iris)\n",
    "                   learning_rate=0.01,\n",
    "                   n_iters=20000, #tune this\n",
    "                   activation_function='relu')  # You can try 'sigmoid', 'relu', or 'tanh'\n",
    "\n",
    "# Train the neural network\n",
    "nn.fit(X_train_scaled, y_train)\n",
    "\n",
    "# Make predictions on the test set\n",
    "predictions = nn.predict(X_test_scaled)\n",
    "predictions = np.argmax(predictions, axis=1) #get the index of the max probability\n",
    "\n",
    "# Evaluate the model\n",
    "accuracy = accuracy_score(y_test, predictions)\n",
    "print(f\"Accuracy: {accuracy:.2f}\")\n",
    "print(classification_report(y_test, predictions))\n",
    "\n",
    "# (Optional)  For visualization, you'd typically need to reduce the data to 2 dimensions\n",
    "#  using PCA or t-SNE, and then plot the decision boundaries.  This is more complex\n",
    "#  and depends on the specific dataset.  I'll omit it here for simplicity.\n"
   ]
  }
 ],
 "metadata": {
  "kernelspec": {
   "display_name": "base",
   "language": "python",
   "name": "python3"
  },
  "language_info": {
   "codemirror_mode": {
    "name": "ipython",
    "version": 3
   },
   "file_extension": ".py",
   "mimetype": "text/x-python",
   "name": "python",
   "nbconvert_exporter": "python",
   "pygments_lexer": "ipython3",
   "version": "3.11.5"
  }
 },
 "nbformat": 4,
 "nbformat_minor": 2
}
